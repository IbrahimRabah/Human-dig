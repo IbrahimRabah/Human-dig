{
 "cells": [
  {
   "cell_type": "code",
   "execution_count": 2,
   "id": "091133a0",
   "metadata": {},
   "outputs": [],
   "source": [
    "import pyopenms"
   ]
  },
  {
   "cell_type": "code",
   "execution_count": 3,
   "id": "e4bc6259",
   "metadata": {},
   "outputs": [
    {
     "name": "stdout",
     "output_type": "stream",
     "text": [
      "TSLLLAFGLLCLPWLQEGSAFPTIPLSR\n"
     ]
    },
    {
     "data": {
      "text/plain": [
       "22"
      ]
     },
     "execution_count": 3,
     "metadata": {},
     "output_type": "execute_result"
    }
   ],
   "source": [
    "from pyopenms import *\n",
    "from urllib.request import urlretrieve\n",
    "gh = \"https://www.uniprot.org/uniprot/P01241.fasta\"\n",
    "urlretrieve (gh , \"human.fasta\")\n",
    "\n",
    "dig = ProteaseDigestion()\n",
    "dig.getEnzymeName() # Trypsin\n",
    "bsa = \"\".join([l.strip() for l in open(\"human.fasta\").readlines()[1:]])\n",
    "bsa = AASequence.fromString(bsa)\n",
    "\n",
    "result = [] \n",
    "dig.digest(bsa, result)\n",
    "print(result[1].toString())\n",
    "len(result)"
   ]
  },
  {
   "cell_type": "code",
   "execution_count": 4,
   "id": "19fbe030",
   "metadata": {},
   "outputs": [
    {
     "name": "stdout",
     "output_type": "stream",
     "text": [
      "MATGSR\n",
      "TSLLLAFGLLCLPWLQEGSAFPTIPLSR\n",
      "LFDNAMLR\n",
      "LHQLAFDTYQEFEEAYIPK\n",
      "YSFLQNPQTSLCFSESIPTPSNR\n",
      "EETQQK\n",
      "SNLELLR\n",
      "ISLLLIQSWLEPVQFLR\n",
      "SVFANSLVYGASDSNVYDLLK\n",
      "DLEEGIQTLMGR\n",
      "LEDGSPR\n",
      "TGQIFK\n",
      "QTYSK\n",
      "FDTNSHNDDALLK\n",
      "NYGLLYCFR\n",
      "VETFLR\n",
      "IVQCR\n",
      "SVEGSCGF\n"
     ]
    }
   ],
   "source": [
    "dig.digest(bsa, result, 5, 40)\n",
    "# print the results\n",
    "for s in result:\n",
    "    print(s.toString())"
   ]
  },
  {
   "cell_type": "code",
   "execution_count": 5,
   "id": "e0f0aca8",
   "metadata": {},
   "outputs": [
    {
     "name": "stdout",
     "output_type": "stream",
     "text": [
      "TSLLLAFGLLCLPWLQEGSAFPTIPLSR\n",
      "LFDNAMLR\n",
      "LHQLAFDTYQEFEEAYIPK\n",
      "YSFLQNPQTSLCFSESIPTPSNR\n",
      "SNLELLR\n",
      "ISLLLIQSWLEPVQFLR\n",
      "SVFANSLVYGASDSNVYDLLK\n",
      "DLEEGIQTLMGR\n",
      "LEDGSPR\n",
      "FDTNSHNDDALLK\n",
      "NYGLLYCFR\n",
      "SVEGSCGF\n",
      "MATGSRTSLLLAFGLLCLPWLQEGSAFPTIPLSR\n",
      "TSLLLAFGLLCLPWLQEGSAFPTIPLSRLFDNAMLR\n",
      "LFDNAMLRAHR\n",
      "AHRLHQLAFDTYQEFEEAYIPK\n",
      "LHQLAFDTYQEFEEAYIPKEQK\n",
      "EQKYSFLQNPQTSLCFSESIPTPSNR\n",
      "YSFLQNPQTSLCFSESIPTPSNREETQQK\n",
      "EETQQKSNLELLR\n",
      "SNLELLRISLLLIQSWLEPVQFLR\n",
      "ISLLLIQSWLEPVQFLRSVFANSLVYGASDSNVYDLLK\n",
      "SVFANSLVYGASDSNVYDLLKDLEEGIQTLMGR\n",
      "DLEEGIQTLMGRLEDGSPR\n",
      "LEDGSPRTGQIFK\n",
      "TGQIFKQTYSK\n",
      "QTYSKFDTNSHNDDALLK\n",
      "FDTNSHNDDALLKNYGLLYCFR\n",
      "NYGLLYCFRK\n",
      "DMDKVETFLR\n",
      "VETFLRIVQCR\n",
      "IVQCRSVEGSCGF\n",
      "MATGSRTSLLLAFGLLCLPWLQEGSAFPTIPLSRLFDNAMLR\n",
      "TSLLLAFGLLCLPWLQEGSAFPTIPLSRLFDNAMLRAHR\n",
      "LFDNAMLRAHRLHQLAFDTYQEFEEAYIPK\n",
      "AHRLHQLAFDTYQEFEEAYIPKEQK\n",
      "LHQLAFDTYQEFEEAYIPKEQKYSFLQNPQTSLCFSESIPTPSNR\n",
      "EQKYSFLQNPQTSLCFSESIPTPSNREETQQK\n",
      "YSFLQNPQTSLCFSESIPTPSNREETQQKSNLELLR\n",
      "EETQQKSNLELLRISLLLIQSWLEPVQFLR\n",
      "SNLELLRISLLLIQSWLEPVQFLRSVFANSLVYGASDSNVYDLLK\n",
      "ISLLLIQSWLEPVQFLRSVFANSLVYGASDSNVYDLLKDLEEGIQTLMGR\n",
      "SVFANSLVYGASDSNVYDLLKDLEEGIQTLMGRLEDGSPR\n",
      "DLEEGIQTLMGRLEDGSPRTGQIFK\n",
      "LEDGSPRTGQIFKQTYSK\n",
      "TGQIFKQTYSKFDTNSHNDDALLK\n",
      "QTYSKFDTNSHNDDALLKNYGLLYCFR\n",
      "FDTNSHNDDALLKNYGLLYCFRK\n",
      "NYGLLYCFRKDMDK\n",
      "KDMDKVETFLR\n",
      "DMDKVETFLRIVQCR\n",
      "VETFLRIVQCRSVEGSCGF\n",
      "MATGSRTSLLLAFGLLCLPWLQEGSAFPTIPLSRLFDNAMLRAHR\n",
      "TSLLLAFGLLCLPWLQEGSAFPTIPLSRLFDNAMLRAHRLHQLAFDTYQEFEEAYIPK\n",
      "LFDNAMLRAHRLHQLAFDTYQEFEEAYIPKEQK\n",
      "AHRLHQLAFDTYQEFEEAYIPKEQKYSFLQNPQTSLCFSESIPTPSNR\n",
      "LHQLAFDTYQEFEEAYIPKEQKYSFLQNPQTSLCFSESIPTPSNREETQQK\n",
      "EQKYSFLQNPQTSLCFSESIPTPSNREETQQKSNLELLR\n",
      "YSFLQNPQTSLCFSESIPTPSNREETQQKSNLELLRISLLLIQSWLEPVQFLR\n",
      "EETQQKSNLELLRISLLLIQSWLEPVQFLRSVFANSLVYGASDSNVYDLLK\n",
      "SNLELLRISLLLIQSWLEPVQFLRSVFANSLVYGASDSNVYDLLKDLEEGIQTLMGR\n",
      "ISLLLIQSWLEPVQFLRSVFANSLVYGASDSNVYDLLKDLEEGIQTLMGRLEDGSPR\n",
      "SVFANSLVYGASDSNVYDLLKDLEEGIQTLMGRLEDGSPRTGQIFK\n",
      "DLEEGIQTLMGRLEDGSPRTGQIFKQTYSK\n",
      "LEDGSPRTGQIFKQTYSKFDTNSHNDDALLK\n",
      "TGQIFKQTYSKFDTNSHNDDALLKNYGLLYCFR\n",
      "QTYSKFDTNSHNDDALLKNYGLLYCFRK\n",
      "FDTNSHNDDALLKNYGLLYCFRKDMDK\n",
      "NYGLLYCFRKDMDKVETFLR\n",
      "KDMDKVETFLRIVQCR\n",
      "DMDKVETFLRIVQCRSVEGSCGF\n"
     ]
    }
   ],
   "source": [
    "dig.setMissedCleavages(3)\n",
    "# only create peptides of length 7-40\n",
    "dig.digest(bsa, result, 7, 60)\n",
    "\n",
    "for s in result:\n",
    "    print(s.toString())"
   ]
  },
  {
   "cell_type": "code",
   "execution_count": null,
   "id": "0e2a2d82",
   "metadata": {},
   "outputs": [],
   "source": []
  }
 ],
 "metadata": {
  "kernelspec": {
   "display_name": "Python 3",
   "language": "python",
   "name": "python3"
  },
  "language_info": {
   "codemirror_mode": {
    "name": "ipython",
    "version": 3
   },
   "file_extension": ".py",
   "mimetype": "text/x-python",
   "name": "python",
   "nbconvert_exporter": "python",
   "pygments_lexer": "ipython3",
   "version": "3.8.8"
  }
 },
 "nbformat": 4,
 "nbformat_minor": 5
}
